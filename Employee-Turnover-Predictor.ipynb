{
 "cells": [
  {
   "cell_type": "markdown",
   "id": "5efb50e5-1280-48e0-9f0a-abd889611f31",
   "metadata": {},
   "source": [
    "# Employee Turnover Predictor\n",
    "\n",
    "This project provides analysis and prediction model for employee turnover using human resources data. It uses various data analysis techniques and machine learning models to gain insights into employee data and predict whether an employee is likely to leave the company."
   ]
  },
  {
   "cell_type": "code",
   "execution_count": 477,
   "id": "855a34e8-f838-46bd-8eee-53fc2d51349c",
   "metadata": {},
   "outputs": [],
   "source": [
    "import pandas as pd\n",
    "import numpy as np\n",
    "import seaborn as sns\n",
    "from matplotlib import pyplot as plt"
   ]
  },
  {
   "cell_type": "code",
   "execution_count": 478,
   "id": "00831332-cd8c-481b-866a-466198b2b15a",
   "metadata": {},
   "outputs": [],
   "source": [
    "df = pd.read_csv(\"hr_data.csv\")"
   ]
  },
  {
   "cell_type": "markdown",
   "id": "8fbd713c-67e1-4ea0-8b3e-4d94a390a657",
   "metadata": {},
   "source": [
    "## Data preparation"
   ]
  },
  {
   "cell_type": "code",
   "execution_count": 479,
   "id": "3d8024e5-19f9-438d-8a5e-c09eaf329e66",
   "metadata": {},
   "outputs": [
    {
     "name": "stdout",
     "output_type": "stream",
     "text": [
      "<class 'pandas.core.frame.DataFrame'>\n",
      "RangeIndex: 14999 entries, 0 to 14998\n",
      "Data columns (total 10 columns):\n",
      " #   Column                 Non-Null Count  Dtype  \n",
      "---  ------                 --------------  -----  \n",
      " 0   satisfaction_level     14999 non-null  float64\n",
      " 1   last_evaluation        14999 non-null  float64\n",
      " 2   number_of_projects     14999 non-null  int64  \n",
      " 3   average_monthly_hours  14999 non-null  int64  \n",
      " 4   years_at_company       14999 non-null  int64  \n",
      " 5   work_accident          14999 non-null  int64  \n",
      " 6   left                   14999 non-null  int64  \n",
      " 7   promotion_last_5years  14999 non-null  int64  \n",
      " 8   department             14999 non-null  object \n",
      " 9   salary                 14999 non-null  object \n",
      "dtypes: float64(2), int64(6), object(2)\n",
      "memory usage: 1.1+ MB\n"
     ]
    }
   ],
   "source": [
    "df.info()"
   ]
  },
  {
   "cell_type": "code",
   "execution_count": 480,
   "id": "9b75bfeb-fdf0-46b3-ac85-20770c71881e",
   "metadata": {},
   "outputs": [
    {
     "data": {
      "text/plain": [
       "satisfaction_level       0\n",
       "last_evaluation          0\n",
       "number_of_projects       0\n",
       "average_monthly_hours    0\n",
       "years_at_company         0\n",
       "work_accident            0\n",
       "left                     0\n",
       "promotion_last_5years    0\n",
       "department               0\n",
       "salary                   0\n",
       "dtype: int64"
      ]
     },
     "execution_count": 480,
     "metadata": {},
     "output_type": "execute_result"
    }
   ],
   "source": [
    "df.isna().sum()"
   ]
  },
  {
   "cell_type": "code",
   "execution_count": 481,
   "id": "07b2703b-0e73-4290-a97d-8e323dfe2249",
   "metadata": {},
   "outputs": [
    {
     "data": {
      "text/plain": [
       "3008"
      ]
     },
     "execution_count": 481,
     "metadata": {},
     "output_type": "execute_result"
    }
   ],
   "source": [
    "df.duplicated(keep=\"first\").sum()"
   ]
  },
  {
   "cell_type": "code",
   "execution_count": 482,
   "id": "570c367b-955a-4865-8b52-ffc43d0e0b63",
   "metadata": {},
   "outputs": [],
   "source": [
    "df.drop_duplicates(inplace=True)"
   ]
  },
  {
   "cell_type": "code",
   "execution_count": 483,
   "id": "b6d7cd63-329d-497d-82ac-9652d6bd5aa1",
   "metadata": {},
   "outputs": [
    {
     "data": {
      "text/plain": [
       "(11991, 10)"
      ]
     },
     "execution_count": 483,
     "metadata": {},
     "output_type": "execute_result"
    }
   ],
   "source": [
    "df.shape"
   ]
  },
  {
   "cell_type": "code",
   "execution_count": 484,
   "id": "5e0a3c65-65fb-4eb1-9ff4-2eca23fc7c2a",
   "metadata": {},
   "outputs": [
    {
     "name": "stdout",
     "output_type": "stream",
     "text": [
      "<class 'pandas.core.frame.DataFrame'>\n",
      "Int64Index: 11991 entries, 0 to 11999\n",
      "Data columns (total 10 columns):\n",
      " #   Column                 Non-Null Count  Dtype  \n",
      "---  ------                 --------------  -----  \n",
      " 0   satisfaction_level     11991 non-null  float64\n",
      " 1   last_evaluation        11991 non-null  float64\n",
      " 2   number_of_projects     11991 non-null  int64  \n",
      " 3   average_monthly_hours  11991 non-null  int64  \n",
      " 4   years_at_company       11991 non-null  int64  \n",
      " 5   work_accident          11991 non-null  int64  \n",
      " 6   left                   11991 non-null  int64  \n",
      " 7   promotion_last_5years  11991 non-null  int64  \n",
      " 8   department             11991 non-null  object \n",
      " 9   salary                 11991 non-null  object \n",
      "dtypes: float64(2), int64(6), object(2)\n",
      "memory usage: 1.0+ MB\n"
     ]
    }
   ],
   "source": [
    "df.info()"
   ]
  },
  {
   "cell_type": "markdown",
   "id": "0d0a52cf-d407-464b-9fc3-f415606bb3f1",
   "metadata": {},
   "source": [
    "## EDA"
   ]
  },
  {
   "cell_type": "markdown",
   "id": "22407877-90fd-4749-b77c-e296c642520c",
   "metadata": {},
   "source": [
    "### Monthly hours\n",
    "\n",
    "Examines the distribution of the \"average_monthly_hours\" feature, which represents the average number of hours an employee worked per month. It starts by displaying the unique values of the feature to get an idea of the range of values. Then, it creates a histogram and a KDE (Kernel Density Estimation) plot using seaborn and matplotlib to visualize the distribution of monthly hours."
   ]
  },
  {
   "cell_type": "code",
   "execution_count": 485,
   "id": "b9567ba0-2c51-4578-aee8-5c74facfdc8f",
   "metadata": {},
   "outputs": [
    {
     "data": {
      "text/plain": [
       "array([157, 262, 272, 223, 159, 153, 247, 259, 224, 142, 135, 305, 234,\n",
       "       148, 137, 143, 160, 255, 282, 147, 304, 139, 158, 242, 239, 128,\n",
       "       132, 294, 134, 145, 140, 246, 126, 306, 152, 269, 127, 281, 276,\n",
       "       182, 273, 307, 309, 225, 226, 308, 244, 286, 161, 264, 277, 275,\n",
       "       149, 295, 151, 249, 291, 232, 130, 129, 155, 265, 279, 284, 221,\n",
       "       154, 150, 267, 257, 177, 144, 289, 258, 263, 251, 133, 216, 300,\n",
       "       138, 260, 183, 250, 292, 283, 245, 256, 278, 240, 136, 301, 243,\n",
       "       296, 274, 164, 146, 261, 285, 141, 297, 156, 287, 219, 254, 228,\n",
       "       131, 252, 236, 270, 298, 192, 248, 266, 238, 229, 233, 268, 231,\n",
       "       253, 302, 271, 290, 235, 293, 241, 218, 199, 180, 195, 237, 227,\n",
       "       172, 206, 181, 217, 310, 214, 198, 211, 222, 213, 202, 184, 204,\n",
       "       288, 220, 299, 303, 212, 196, 179, 205, 230, 203, 280, 169, 188,\n",
       "       178, 175, 166, 163, 168, 165, 189, 162, 215, 193, 176, 191, 174,\n",
       "       201, 208, 171, 111, 104, 106, 100, 194, 209, 185, 200, 207, 187,\n",
       "       210, 186, 167, 108, 122, 110, 115, 197, 102, 109, 190,  99, 101,\n",
       "        97, 173, 121, 170, 105, 118, 119, 117, 114,  96,  98, 107, 123,\n",
       "       116, 125, 113, 120, 112, 124, 103], dtype=int64)"
      ]
     },
     "execution_count": 485,
     "metadata": {},
     "output_type": "execute_result"
    }
   ],
   "source": [
    "df['average_monthly_hours'].unique()"
   ]
  },
  {
   "cell_type": "code",
   "execution_count": 486,
   "id": "170e147b-d4f1-46b6-ab13-2faa51f2606c",
   "metadata": {},
   "outputs": [
    {
     "data": {
      "text/plain": [
       "215"
      ]
     },
     "execution_count": 486,
     "metadata": {},
     "output_type": "execute_result"
    }
   ],
   "source": [
    "bins = len(df['average_monthly_hours'].unique())\n",
    "bins"
   ]
  },
  {
   "cell_type": "code",
   "execution_count": 487,
   "id": "4742d636-69bb-4b10-a8d5-aa7687449776",
   "metadata": {},
   "outputs": [
    {
     "data": {
      "text/plain": [
       "Text(0.5, 1.0, 'Hours Worked Monthly')"
      ]
     },
     "execution_count": 487,
     "metadata": {},
     "output_type": "execute_result"
    },
    {
     "data": {
      "image/png": "[encoded data removed]",
      "text/plain": [
       "<Figure size 640x480 with 1 Axes>"
      ]
     },
     "metadata": {},
     "output_type": "display_data"
    }
   ],
   "source": [
    "sns.histplot(data=df, x='average_monthly_hours')\n",
    "plt.title('Hours Worked Monthly')"
   ]
  },
  {
   "cell_type": "code",
   "execution_count": 488,
   "id": "2ea95542-f347-4138-a0a1-1bf79d57c005",
   "metadata": {},
   "outputs": [
    {
     "data": {
      "image/png": "[encoded data removed]",
      "text/plain": [
       "<Figure size 600x600 with 1 Axes>"
      ]
     },
     "metadata": {},
     "output_type": "display_data"
    }
   ],
   "source": [
    "plt.figure(figsize=(6, 6))\n",
    "sns.histplot(data=df, x=df['average_monthly_hours'], kde=True)\n",
    "plt.title('Hours Worked Monthly')\n",
    "plt.tight_layout()\n",
    "plt.show()"
   ]
  },
  {
   "cell_type": "markdown",
   "id": "f47c656c-85c4-4052-be4c-a8aac11d35a3",
   "metadata": {},
   "source": [
    "### Number of projects\n",
    "\n",
    "Analyzes the distribution of the \"number_of_projects\" feature, which indicates the number of projects an employee has worked on. It displays the count of each project number using a count plot from the seaborn library."
   ]
  },
  {
   "cell_type": "code",
   "execution_count": 489,
   "id": "426c1dfd-8a02-44d0-9a89-bf5ee9767034",
   "metadata": {},
   "outputs": [
    {
     "data": {
      "text/plain": [
       "4    3685\n",
       "3    3520\n",
       "5    2233\n",
       "2    1582\n",
       "6     826\n",
       "7     145\n",
       "Name: number_of_projects, dtype: int64"
      ]
     },
     "execution_count": 489,
     "metadata": {},
     "output_type": "execute_result"
    }
   ],
   "source": [
    "df['number_of_projects'].value_counts()"
   ]
  },
  {
   "cell_type": "code",
   "execution_count": 490,
   "id": "6579f83a-0d81-4c0c-9cd9-d085497be366",
   "metadata": {},
   "outputs": [
    {
     "data": {
      "image/png": "[encoded data removed]",
      "text/plain": [
       "<Figure size 600x600 with 1 Axes>"
      ]
     },
     "metadata": {},
     "output_type": "display_data"
    }
   ],
   "source": [
    "plt.figure(figsize=(6,6))\n",
    "sns.countplot(data=df, x='number_of_projects')\n",
    "plt.title('Number of Projects Worked On')\n",
    "plt.tight_layout()\n",
    "plt.show()"
   ]
  },
  {
   "cell_type": "markdown",
   "id": "c9c51dd8-44b1-43ff-9ce3-88106f9935f6",
   "metadata": {},
   "source": [
    "### Promotion in last 5 years\n",
    "\n",
    "Visualizes the proportion of employees who were promoted in the last 5 years using a pie chart. It calculates the count of employees who were promoted and not promoted and represents the proportions as slices in the pie chart."
   ]
  },
  {
   "cell_type": "code",
   "execution_count": 491,
   "id": "360a9790-ef5b-475f-9eed-dab07a10b299",
   "metadata": {},
   "outputs": [
    {
     "data": {
      "text/plain": [
       "0    11788\n",
       "1      203\n",
       "Name: promotion_last_5years, dtype: int64"
      ]
     },
     "execution_count": 491,
     "metadata": {},
     "output_type": "execute_result"
    }
   ],
   "source": [
    "df['promotion_last_5years'].value_counts()"
   ]
  },
  {
   "cell_type": "code",
   "execution_count": 492,
   "id": "38e78c80-613d-4152-b964-30c39b087697",
   "metadata": {},
   "outputs": [
    {
     "data": {
      "text/plain": [
       "[0, 1]"
      ]
     },
     "execution_count": 492,
     "metadata": {},
     "output_type": "execute_result"
    }
   ],
   "source": [
    "labels = df['promotion_last_5years'].value_counts().index.tolist()\n",
    "labels"
   ]
  },
  {
   "cell_type": "code",
   "execution_count": 493,
   "id": "7533e7a9-a811-42c8-a24b-63685575ca62",
   "metadata": {},
   "outputs": [
    {
     "data": {
      "text/plain": [
       "['Not Promoted', 'Promoted']"
      ]
     },
     "execution_count": 493,
     "metadata": {},
     "output_type": "execute_result"
    }
   ],
   "source": [
    "labels = ['Promoted' if i == 1 else 'Not Promoted' for i in labels]\n",
    "labels"
   ]
  },
  {
   "cell_type": "code",
   "execution_count": 494,
   "id": "f4b80aeb-4c12-4e0d-9226-a11e39c32af3",
   "metadata": {},
   "outputs": [
    {
     "data": {
      "image/png": "[encoded data removed]",
      "text/plain": [
       "<Figure size 600x600 with 1 Axes>"
      ]
     },
     "metadata": {},
     "output_type": "display_data"
    }
   ],
   "source": [
    "plt.figure(figsize=(6, 6))\n",
    "plt.pie(x = df['promotion_last_5years'].value_counts(), labels=labels, autopct=\"%1.2f%%\", explode=[0, 0.3])\n",
    "plt.title(\"Promtion in the Last 5 Years\")\n",
    "plt.tight_layout()\n",
    "plt.show()"
   ]
  },
  {
   "cell_type": "markdown",
   "id": "e8683b51-2a28-4b88-928e-8cc2aa8cd073",
   "metadata": {},
   "source": [
    "### Work accidents\n",
    "\n",
    "Displays the proportion of employees who experienced a work accident using a pie chart. It calculates the count of employees who had a work accident and those who did not and represents the proportions as slices in the pie chart."
   ]
  },
  {
   "cell_type": "code",
   "execution_count": 495,
   "id": "2cfe5547-9f06-47fd-a8d5-f24894168249",
   "metadata": {},
   "outputs": [
    {
     "data": {
      "text/plain": [
       "0    10141\n",
       "1     1850\n",
       "Name: work_accident, dtype: int64"
      ]
     },
     "execution_count": 495,
     "metadata": {},
     "output_type": "execute_result"
    }
   ],
   "source": [
    "df['work_accident'].value_counts() "
   ]
  },
  {
   "cell_type": "code",
   "execution_count": 496,
   "id": "e8c24a6c-e0c3-4a76-bda1-4aace534a9ab",
   "metadata": {},
   "outputs": [
    {
     "data": {
      "text/plain": [
       "[0, 1]"
      ]
     },
     "execution_count": 496,
     "metadata": {},
     "output_type": "execute_result"
    }
   ],
   "source": [
    "labels = df['work_accident'].value_counts().index.tolist()\n",
    "labels"
   ]
  },
  {
   "cell_type": "code",
   "execution_count": 497,
   "id": "08257ef7-c4ec-4017-8162-df2fef847dad",
   "metadata": {},
   "outputs": [
    {
     "data": {
      "text/plain": [
       "['No Work Accident', 'Work Accident']"
      ]
     },
     "execution_count": 497,
     "metadata": {},
     "output_type": "execute_result"
    }
   ],
   "source": [
    "labels = ['Work Accident' if i == 1 else 'No Work Accident' for i in labels]\n",
    "labels"
   ]
  },
  {
   "cell_type": "code",
   "execution_count": 498,
   "id": "f3d40a33-bb16-40cb-a53d-a2d881e205f0",
   "metadata": {},
   "outputs": [
    {
     "data": {
      "image/png": "[encoded data removed]",
      "text/plain": [
       "<Figure size 600x600 with 1 Axes>"
      ]
     },
     "metadata": {},
     "output_type": "display_data"
    }
   ],
   "source": [
    "plt.figure(figsize=(6, 6))\n",
    "plt.pie(x = df['work_accident'].value_counts(), labels=labels, autopct=\"%1.2f%%\", explode=[0, 0.1])\n",
    "plt.title(\"Work Accidents\")\n",
    "plt.tight_layout()\n",
    "plt.show()"
   ]
  },
  {
   "cell_type": "markdown",
   "id": "c1117589-e4e9-4fc8-8d44-fdc77f2a7119",
   "metadata": {},
   "source": [
    "### Years at company\n",
    "\n",
    "The distribution of the \"years_at_company\" feature, which represents the number of years an employee has been with the company. It uses a count plot to display the number of employees for each year category."
   ]
  },
  {
   "cell_type": "code",
   "execution_count": 499,
   "id": "d2b2e02f-ae70-4a32-9430-b9608104b930",
   "metadata": {},
   "outputs": [
    {
     "data": {
      "text/plain": [
       "3     5190\n",
       "2     2910\n",
       "4     2005\n",
       "5     1062\n",
       "6      542\n",
       "10     107\n",
       "7       94\n",
       "8       81\n",
       "Name: years_at_company, dtype: int64"
      ]
     },
     "execution_count": 499,
     "metadata": {},
     "output_type": "execute_result"
    }
   ],
   "source": [
    "df['years_at_company'].value_counts() "
   ]
  },
  {
   "cell_type": "code",
   "execution_count": 500,
   "id": "195ebf5f-2dab-460e-99cc-30781fd104f4",
   "metadata": {},
   "outputs": [
    {
     "data": {
      "text/plain": [
       "[3, 2, 4, 5, 6, 10, 7, 8]"
      ]
     },
     "execution_count": 500,
     "metadata": {},
     "output_type": "execute_result"
    }
   ],
   "source": [
    "labels = df['years_at_company'].value_counts().index.tolist()\n",
    "labels"
   ]
  },
  {
   "cell_type": "code",
   "execution_count": 501,
   "id": "1b9e7d33-6a77-4bed-b492-04aac454089d",
   "metadata": {},
   "outputs": [
    {
     "data": {
      "image/png": "[encoded data removed]",
      "text/plain": [
       "<Figure size 600x600 with 1 Axes>"
      ]
     },
     "metadata": {},
     "output_type": "display_data"
    }
   ],
   "source": [
    "plt.figure(figsize=(6, 6))\n",
    "sns.countplot(x = 'years_at_company', data=df)\n",
    "plt.title(\"Years at Company\")\n",
    "plt.tight_layout()\n",
    "plt.show()\n"
   ]
  },
  {
   "cell_type": "code",
   "execution_count": 502,
   "id": "79c0d284-6d3c-410a-b2ad-04f33f674813",
   "metadata": {},
   "outputs": [
    {
     "data": {
      "text/plain": [
       "3.3648569760653824"
      ]
     },
     "execution_count": 502,
     "metadata": {},
     "output_type": "execute_result"
    }
   ],
   "source": [
    "df['years_at_company'].mean() #Average years pent at company"
   ]
  },
  {
   "cell_type": "markdown",
   "id": "77c31b34-52c5-4590-8c32-bd66a155f655",
   "metadata": {},
   "source": [
    "### Department comparison\n",
    "\n",
    "Number of employees in each department using a count plot. It displays the count of employees in each department category on the x-axis and the corresponding frequency on the y-axis."
   ]
  },
  {
   "cell_type": "code",
   "execution_count": 503,
   "id": "cec815f5-da48-4f7c-8db8-4a52a1917d89",
   "metadata": {},
   "outputs": [
    {
     "data": {
      "text/plain": [
       "array(['sales', 'accounting', 'hr', 'technical', 'support', 'management',\n",
       "       'IT', 'product_mng', 'marketing', 'RandD'], dtype=object)"
      ]
     },
     "execution_count": 503,
     "metadata": {},
     "output_type": "execute_result"
    }
   ],
   "source": [
    "df['department'].unique()"
   ]
  },
  {
   "cell_type": "code",
   "execution_count": 504,
   "id": "f3a74c8f-932a-4eb6-90e6-2027a6c0347f",
   "metadata": {},
   "outputs": [
    {
     "data": {
      "text/plain": [
       "sales          3239\n",
       "technical      2244\n",
       "support        1821\n",
       "IT              976\n",
       "RandD           694\n",
       "product_mng     686\n",
       "marketing       673\n",
       "accounting      621\n",
       "hr              601\n",
       "management      436\n",
       "Name: department, dtype: int64"
      ]
     },
     "execution_count": 504,
     "metadata": {},
     "output_type": "execute_result"
    }
   ],
   "source": [
    "df['department'].value_counts()"
   ]
  },
  {
   "cell_type": "code",
   "execution_count": 505,
   "id": "8cfcedca-12d8-4a38-afce-efe67bb0f1f6",
   "metadata": {},
   "outputs": [
    {
     "data": {
      "image/png": "[encoded data removed]",
      "text/plain": [
       "<Figure size 600x600 with 1 Axes>"
      ]
     },
     "metadata": {},
     "output_type": "display_data"
    }
   ],
   "source": [
    "plt.figure(figsize=(6, 6))\n",
    "sns.countplot(x = 'department', data=df)\n",
    "plt.title(\"Number of Employees by Department\")\n",
    "plt.xticks(rotation=90)\n",
    "plt.tight_layout()\n",
    "plt.show()"
   ]
  },
  {
   "cell_type": "markdown",
   "id": "fe38aade-b5cb-47c0-96c4-38d1082d5d1d",
   "metadata": {},
   "source": [
    "### Salary Category\n",
    "\n",
    "Distribution of employees across different salary levels using a pie chart. It calculates the count of employees in each salary category and represents the proportions as slices in the pie chart.\n",
    "\n",
    "The ranges are general but the brackets could be applied to any salary distribution within a company."
   ]
  },
  {
   "cell_type": "code",
   "execution_count": 506,
   "id": "f5b34c78-f954-454c-9e1e-c5bd473ef808",
   "metadata": {},
   "outputs": [
    {
     "data": {
      "text/plain": [
       "array(['low', 'medium', 'high'], dtype=object)"
      ]
     },
     "execution_count": 506,
     "metadata": {},
     "output_type": "execute_result"
    }
   ],
   "source": [
    "df['salary'].unique()"
   ]
  },
  {
   "cell_type": "code",
   "execution_count": 507,
   "id": "fb81539d-9272-4b1b-bc6f-ba962181cffd",
   "metadata": {},
   "outputs": [
    {
     "data": {
      "text/plain": [
       "low       5740\n",
       "medium    5261\n",
       "high       990\n",
       "Name: salary, dtype: int64"
      ]
     },
     "execution_count": 507,
     "metadata": {},
     "output_type": "execute_result"
    }
   ],
   "source": [
    "df['salary'].value_counts()"
   ]
  },
  {
   "cell_type": "code",
   "execution_count": 508,
   "id": "a157c56b-1266-4b25-a868-5bae60d9c5b9",
   "metadata": {},
   "outputs": [
    {
     "data": {
      "text/plain": [
       "['low', 'medium', 'high']"
      ]
     },
     "execution_count": 508,
     "metadata": {},
     "output_type": "execute_result"
    }
   ],
   "source": [
    "labels = df['salary'].value_counts().index.tolist()\n",
    "labels"
   ]
  },
  {
   "cell_type": "code",
   "execution_count": 509,
   "id": "b01e98b4-8812-4fbd-be71-d5036c8e81ea",
   "metadata": {},
   "outputs": [
    {
     "data": {
      "image/png": "[encoded data removed]",
      "text/plain": [
       "<Figure size 600x600 with 1 Axes>"
      ]
     },
     "metadata": {},
     "output_type": "display_data"
    }
   ],
   "source": [
    "plt.figure(figsize=(6, 6))\n",
    "plt.pie(x = df['salary'].value_counts(), labels=labels, autopct=\"%1.2f%%\")\n",
    "plt.title(\"Salary Category\")\n",
    "plt.tight_layout()\n",
    "plt.show()"
   ]
  },
  {
   "cell_type": "markdown",
   "id": "86c6dbc8-fbbe-48e5-b9e8-e823013b6b08",
   "metadata": {},
   "source": [
    "## Data preprocessing\n",
    "\n",
    "The code performs data preprocessing steps before training the models. Data preprocessing is necessary to transform the data into a suitable format for the machine learning models. The column \"salary\" is renamed to \"salary_level\" in order to provide a more descriptive and consistent name for the column."
   ]
  },
  {
   "cell_type": "code",
   "execution_count": 510,
   "id": "4b67fd45-e75b-498f-b7f0-9531ed553e2b",
   "metadata": {},
   "outputs": [],
   "source": [
    "df.rename(columns={'salary': 'salary_level'}, inplace=True)"
   ]
  },
  {
   "cell_type": "code",
   "execution_count": 511,
   "id": "a4aa13d6-bc4c-4207-885d-3f1329e66450",
   "metadata": {},
   "outputs": [
    {
     "data": {
      "text/plain": [
       "Index(['satisfaction_level', 'last_evaluation', 'number_of_projects',\n",
       "       'average_monthly_hours', 'years_at_company', 'work_accident', 'left',\n",
       "       'promotion_last_5years', 'department', 'salary_level'],\n",
       "      dtype='object')"
      ]
     },
     "execution_count": 511,
     "metadata": {},
     "output_type": "execute_result"
    }
   ],
   "source": [
    "df.columns"
   ]
  },
  {
   "cell_type": "markdown",
   "id": "0a8f1615-02a8-4af0-ab7e-329980cbdf6e",
   "metadata": {},
   "source": [
    "### Categorical encoding\n",
    "\n",
    "This code performs one-hot encoding on the categorical features \"department\" and \"salary_level\" using the 'pd.get_dummies()' function. One-hot encoding converts categorical variables into binary vectors, making them suitable for machine learning algorithms. The encoded columns are then added to the dataframe."
   ]
  },
  {
   "cell_type": "code",
   "execution_count": 512,
   "id": "1e80504e-97ec-44be-b448-1c4158b9e78e",
   "metadata": {},
   "outputs": [],
   "source": [
    "categorical_cols = ['department', 'salary_level']\n",
    "encoded_cols = pd.get_dummies(df[categorical_cols], prefix='cat')"
   ]
  },
  {
   "cell_type": "code",
   "execution_count": 513,
   "id": "95f1703f-48e8-479a-bb23-13258f38d58f",
   "metadata": {},
   "outputs": [
    {
     "data": {
      "text/html": [
       "<div>\n",
       "<style scoped>\n",
       "    .dataframe tbody tr th:only-of-type {\n",
       "        vertical-align: middle;\n",
       "    }\n",
       "\n",
       "    .dataframe tbody tr th {\n",
       "        vertical-align: top;\n",
       "    }\n",
       "\n",
       "    .dataframe thead th {\n",
       "        text-align: right;\n",
       "    }\n",
       "</style>\n",
       "<table border=\"1\" class=\"dataframe\">\n",
       "  <thead>\n",
       "    <tr style=\"text-align: right;\">\n",
       "      <th></th>\n",
       "      <th>cat_IT</th>\n",
       "      <th>cat_RandD</th>\n",
       "      <th>cat_accounting</th>\n",
       "      <th>cat_hr</th>\n",
       "      <th>cat_management</th>\n",
       "      <th>cat_marketing</th>\n",
       "      <th>cat_product_mng</th>\n",
       "      <th>cat_sales</th>\n",
       "      <th>cat_support</th>\n",
       "      <th>cat_technical</th>\n",
       "      <th>cat_high</th>\n",
       "      <th>cat_low</th>\n",
       "      <th>cat_medium</th>\n",
       "    </tr>\n",
       "  </thead>\n",
       "  <tbody>\n",
       "    <tr>\n",
       "      <th>0</th>\n",
       "      <td>0</td>\n",
       "      <td>0</td>\n",
       "      <td>0</td>\n",
       "      <td>0</td>\n",
       "      <td>0</td>\n",
       "      <td>0</td>\n",
       "      <td>0</td>\n",
       "      <td>1</td>\n",
       "      <td>0</td>\n",
       "      <td>0</td>\n",
       "      <td>0</td>\n",
       "      <td>1</td>\n",
       "      <td>0</td>\n",
       "    </tr>\n",
       "    <tr>\n",
       "      <th>1</th>\n",
       "      <td>0</td>\n",
       "      <td>0</td>\n",
       "      <td>0</td>\n",
       "      <td>0</td>\n",
       "      <td>0</td>\n",
       "      <td>0</td>\n",
       "      <td>0</td>\n",
       "      <td>1</td>\n",
       "      <td>0</td>\n",
       "      <td>0</td>\n",
       "      <td>0</td>\n",
       "      <td>0</td>\n",
       "      <td>1</td>\n",
       "    </tr>\n",
       "    <tr>\n",
       "      <th>2</th>\n",
       "      <td>0</td>\n",
       "      <td>0</td>\n",
       "      <td>0</td>\n",
       "      <td>0</td>\n",
       "      <td>0</td>\n",
       "      <td>0</td>\n",
       "      <td>0</td>\n",
       "      <td>1</td>\n",
       "      <td>0</td>\n",
       "      <td>0</td>\n",
       "      <td>0</td>\n",
       "      <td>0</td>\n",
       "      <td>1</td>\n",
       "    </tr>\n",
       "    <tr>\n",
       "      <th>3</th>\n",
       "      <td>0</td>\n",
       "      <td>0</td>\n",
       "      <td>0</td>\n",
       "      <td>0</td>\n",
       "      <td>0</td>\n",
       "      <td>0</td>\n",
       "      <td>0</td>\n",
       "      <td>1</td>\n",
       "      <td>0</td>\n",
       "      <td>0</td>\n",
       "      <td>0</td>\n",
       "      <td>1</td>\n",
       "      <td>0</td>\n",
       "    </tr>\n",
       "    <tr>\n",
       "      <th>4</th>\n",
       "      <td>0</td>\n",
       "      <td>0</td>\n",
       "      <td>0</td>\n",
       "      <td>0</td>\n",
       "      <td>0</td>\n",
       "      <td>0</td>\n",
       "      <td>0</td>\n",
       "      <td>1</td>\n",
       "      <td>0</td>\n",
       "      <td>0</td>\n",
       "      <td>0</td>\n",
       "      <td>1</td>\n",
       "      <td>0</td>\n",
       "    </tr>\n",
       "    <tr>\n",
       "      <th>...</th>\n",
       "      <td>...</td>\n",
       "      <td>...</td>\n",
       "      <td>...</td>\n",
       "      <td>...</td>\n",
       "      <td>...</td>\n",
       "      <td>...</td>\n",
       "      <td>...</td>\n",
       "      <td>...</td>\n",
       "      <td>...</td>\n",
       "      <td>...</td>\n",
       "      <td>...</td>\n",
       "      <td>...</td>\n",
       "      <td>...</td>\n",
       "    </tr>\n",
       "    <tr>\n",
       "      <th>11995</th>\n",
       "      <td>0</td>\n",
       "      <td>0</td>\n",
       "      <td>0</td>\n",
       "      <td>0</td>\n",
       "      <td>1</td>\n",
       "      <td>0</td>\n",
       "      <td>0</td>\n",
       "      <td>0</td>\n",
       "      <td>0</td>\n",
       "      <td>0</td>\n",
       "      <td>1</td>\n",
       "      <td>0</td>\n",
       "      <td>0</td>\n",
       "    </tr>\n",
       "    <tr>\n",
       "      <th>11996</th>\n",
       "      <td>0</td>\n",
       "      <td>0</td>\n",
       "      <td>0</td>\n",
       "      <td>0</td>\n",
       "      <td>1</td>\n",
       "      <td>0</td>\n",
       "      <td>0</td>\n",
       "      <td>0</td>\n",
       "      <td>0</td>\n",
       "      <td>0</td>\n",
       "      <td>1</td>\n",
       "      <td>0</td>\n",
       "      <td>0</td>\n",
       "    </tr>\n",
       "    <tr>\n",
       "      <th>11997</th>\n",
       "      <td>0</td>\n",
       "      <td>0</td>\n",
       "      <td>0</td>\n",
       "      <td>0</td>\n",
       "      <td>1</td>\n",
       "      <td>0</td>\n",
       "      <td>0</td>\n",
       "      <td>0</td>\n",
       "      <td>0</td>\n",
       "      <td>0</td>\n",
       "      <td>1</td>\n",
       "      <td>0</td>\n",
       "      <td>0</td>\n",
       "    </tr>\n",
       "    <tr>\n",
       "      <th>11998</th>\n",
       "      <td>0</td>\n",
       "      <td>0</td>\n",
       "      <td>0</td>\n",
       "      <td>0</td>\n",
       "      <td>0</td>\n",
       "      <td>1</td>\n",
       "      <td>0</td>\n",
       "      <td>0</td>\n",
       "      <td>0</td>\n",
       "      <td>0</td>\n",
       "      <td>1</td>\n",
       "      <td>0</td>\n",
       "      <td>0</td>\n",
       "    </tr>\n",
       "    <tr>\n",
       "      <th>11999</th>\n",
       "      <td>1</td>\n",
       "      <td>0</td>\n",
       "      <td>0</td>\n",
       "      <td>0</td>\n",
       "      <td>0</td>\n",
       "      <td>0</td>\n",
       "      <td>0</td>\n",
       "      <td>0</td>\n",
       "      <td>0</td>\n",
       "      <td>0</td>\n",
       "      <td>0</td>\n",
       "      <td>1</td>\n",
       "      <td>0</td>\n",
       "    </tr>\n",
       "  </tbody>\n",
       "</table>\n",
       "<p>11991 rows × 13 columns</p>\n",
       "</div>"
      ],
      "text/plain": [
       "       cat_IT  cat_RandD  cat_accounting  cat_hr  cat_management  \\\n",
       "0           0          0               0       0               0   \n",
       "1           0          0               0       0               0   \n",
       "2           0          0               0       0               0   \n",
       "3           0          0               0       0               0   \n",
       "4           0          0               0       0               0   \n",
       "...       ...        ...             ...     ...             ...   \n",
       "11995       0          0               0       0               1   \n",
       "11996       0          0               0       0               1   \n",
       "11997       0          0               0       0               1   \n",
       "11998       0          0               0       0               0   \n",
       "11999       1          0               0       0               0   \n",
       "\n",
       "       cat_marketing  cat_product_mng  cat_sales  cat_support  cat_technical  \\\n",
       "0                  0                0          1            0              0   \n",
       "1                  0                0          1            0              0   \n",
       "2                  0                0          1            0              0   \n",
       "3                  0                0          1            0              0   \n",
       "4                  0                0          1            0              0   \n",
       "...              ...              ...        ...          ...            ...   \n",
       "11995              0                0          0            0              0   \n",
       "11996              0                0          0            0              0   \n",
       "11997              0                0          0            0              0   \n",
       "11998              1                0          0            0              0   \n",
       "11999              0                0          0            0              0   \n",
       "\n",
       "       cat_high  cat_low  cat_medium  \n",
       "0             0        1           0  \n",
       "1             0        0           1  \n",
       "2             0        0           1  \n",
       "3             0        1           0  \n",
       "4             0        1           0  \n",
       "...         ...      ...         ...  \n",
       "11995         1        0           0  \n",
       "11996         1        0           0  \n",
       "11997         1        0           0  \n",
       "11998         1        0           0  \n",
       "11999         0        1           0  \n",
       "\n",
       "[11991 rows x 13 columns]"
      ]
     },
     "execution_count": 513,
     "metadata": {},
     "output_type": "execute_result"
    }
   ],
   "source": [
    "encoded_cols"
   ]
  },
  {
   "cell_type": "code",
   "execution_count": 514,
   "id": "8671bd0f-21c1-41c8-810e-21fafa345980",
   "metadata": {},
   "outputs": [],
   "source": [
    "df = df.join(encoded_cols)"
   ]
  },
  {
   "cell_type": "code",
   "execution_count": 515,
   "id": "2311402f-c653-429e-83bd-34a42b17bbdf",
   "metadata": {},
   "outputs": [
    {
     "data": {
      "text/html": [
       "<div>\n",
       "<style scoped>\n",
       "    .dataframe tbody tr th:only-of-type {\n",
       "        vertical-align: middle;\n",
       "    }\n",
       "\n",
       "    .dataframe tbody tr th {\n",
       "        vertical-align: top;\n",
       "    }\n",
       "\n",
       "    .dataframe thead th {\n",
       "        text-align: right;\n",
       "    }\n",
       "</style>\n",
       "<table border=\"1\" class=\"dataframe\">\n",
       "  <thead>\n",
       "    <tr style=\"text-align: right;\">\n",
       "      <th></th>\n",
       "      <th>satisfaction_level</th>\n",
       "      <th>last_evaluation</th>\n",
       "      <th>number_of_projects</th>\n",
       "      <th>average_monthly_hours</th>\n",
       "      <th>years_at_company</th>\n",
       "      <th>work_accident</th>\n",
       "      <th>left</th>\n",
       "      <th>promotion_last_5years</th>\n",
       "      <th>department</th>\n",
       "      <th>salary_level</th>\n",
       "      <th>...</th>\n",
       "      <th>cat_hr</th>\n",
       "      <th>cat_management</th>\n",
       "      <th>cat_marketing</th>\n",
       "      <th>cat_product_mng</th>\n",
       "      <th>cat_sales</th>\n",
       "      <th>cat_support</th>\n",
       "      <th>cat_technical</th>\n",
       "      <th>cat_high</th>\n",
       "      <th>cat_low</th>\n",
       "      <th>cat_medium</th>\n",
       "    </tr>\n",
       "  </thead>\n",
       "  <tbody>\n",
       "    <tr>\n",
       "      <th>0</th>\n",
       "      <td>0.38</td>\n",
       "      <td>0.53</td>\n",
       "      <td>2</td>\n",
       "      <td>157</td>\n",
       "      <td>3</td>\n",
       "      <td>0</td>\n",
       "      <td>1</td>\n",
       "      <td>0</td>\n",
       "      <td>sales</td>\n",
       "      <td>low</td>\n",
       "      <td>...</td>\n",
       "      <td>0</td>\n",
       "      <td>0</td>\n",
       "      <td>0</td>\n",
       "      <td>0</td>\n",
       "      <td>1</td>\n",
       "      <td>0</td>\n",
       "      <td>0</td>\n",
       "      <td>0</td>\n",
       "      <td>1</td>\n",
       "      <td>0</td>\n",
       "    </tr>\n",
       "    <tr>\n",
       "      <th>1</th>\n",
       "      <td>0.80</td>\n",
       "      <td>0.86</td>\n",
       "      <td>5</td>\n",
       "      <td>262</td>\n",
       "      <td>6</td>\n",
       "      <td>0</td>\n",
       "      <td>1</td>\n",
       "      <td>0</td>\n",
       "      <td>sales</td>\n",
       "      <td>medium</td>\n",
       "      <td>...</td>\n",
       "      <td>0</td>\n",
       "      <td>0</td>\n",
       "      <td>0</td>\n",
       "      <td>0</td>\n",
       "      <td>1</td>\n",
       "      <td>0</td>\n",
       "      <td>0</td>\n",
       "      <td>0</td>\n",
       "      <td>0</td>\n",
       "      <td>1</td>\n",
       "    </tr>\n",
       "    <tr>\n",
       "      <th>2</th>\n",
       "      <td>0.11</td>\n",
       "      <td>0.88</td>\n",
       "      <td>7</td>\n",
       "      <td>272</td>\n",
       "      <td>4</td>\n",
       "      <td>0</td>\n",
       "      <td>1</td>\n",
       "      <td>0</td>\n",
       "      <td>sales</td>\n",
       "      <td>medium</td>\n",
       "      <td>...</td>\n",
       "      <td>0</td>\n",
       "      <td>0</td>\n",
       "      <td>0</td>\n",
       "      <td>0</td>\n",
       "      <td>1</td>\n",
       "      <td>0</td>\n",
       "      <td>0</td>\n",
       "      <td>0</td>\n",
       "      <td>0</td>\n",
       "      <td>1</td>\n",
       "    </tr>\n",
       "    <tr>\n",
       "      <th>3</th>\n",
       "      <td>0.72</td>\n",
       "      <td>0.87</td>\n",
       "      <td>5</td>\n",
       "      <td>223</td>\n",
       "      <td>5</td>\n",
       "      <td>0</td>\n",
       "      <td>1</td>\n",
       "      <td>0</td>\n",
       "      <td>sales</td>\n",
       "      <td>low</td>\n",
       "      <td>...</td>\n",
       "      <td>0</td>\n",
       "      <td>0</td>\n",
       "      <td>0</td>\n",
       "      <td>0</td>\n",
       "      <td>1</td>\n",
       "      <td>0</td>\n",
       "      <td>0</td>\n",
       "      <td>0</td>\n",
       "      <td>1</td>\n",
       "      <td>0</td>\n",
       "    </tr>\n",
       "    <tr>\n",
       "      <th>4</th>\n",
       "      <td>0.37</td>\n",
       "      <td>0.52</td>\n",
       "      <td>2</td>\n",
       "      <td>159</td>\n",
       "      <td>3</td>\n",
       "      <td>0</td>\n",
       "      <td>1</td>\n",
       "      <td>0</td>\n",
       "      <td>sales</td>\n",
       "      <td>low</td>\n",
       "      <td>...</td>\n",
       "      <td>0</td>\n",
       "      <td>0</td>\n",
       "      <td>0</td>\n",
       "      <td>0</td>\n",
       "      <td>1</td>\n",
       "      <td>0</td>\n",
       "      <td>0</td>\n",
       "      <td>0</td>\n",
       "      <td>1</td>\n",
       "      <td>0</td>\n",
       "    </tr>\n",
       "  </tbody>\n",
       "</table>\n",
       "<p>5 rows × 23 columns</p>\n",
       "</div>"
      ],
      "text/plain": [
       "   satisfaction_level  last_evaluation  number_of_projects  \\\n",
       "0                0.38             0.53                   2   \n",
       "1                0.80             0.86                   5   \n",
       "2                0.11             0.88                   7   \n",
       "3                0.72             0.87                   5   \n",
       "4                0.37             0.52                   2   \n",
       "\n",
       "   average_monthly_hours  years_at_company  work_accident  left  \\\n",
       "0                    157                 3              0     1   \n",
       "1                    262                 6              0     1   \n",
       "2                    272                 4              0     1   \n",
       "3                    223                 5              0     1   \n",
       "4                    159                 3              0     1   \n",
       "\n",
       "   promotion_last_5years department salary_level  ...  cat_hr  cat_management  \\\n",
       "0                      0      sales          low  ...       0               0   \n",
       "1                      0      sales       medium  ...       0               0   \n",
       "2                      0      sales       medium  ...       0               0   \n",
       "3                      0      sales          low  ...       0               0   \n",
       "4                      0      sales          low  ...       0               0   \n",
       "\n",
       "   cat_marketing  cat_product_mng  cat_sales  cat_support  cat_technical  \\\n",
       "0              0                0          1            0              0   \n",
       "1              0                0          1            0              0   \n",
       "2              0                0          1            0              0   \n",
       "3              0                0          1            0              0   \n",
       "4              0                0          1            0              0   \n",
       "\n",
       "   cat_high  cat_low  cat_medium  \n",
       "0         0        1           0  \n",
       "1         0        0           1  \n",
       "2         0        0           1  \n",
       "3         0        1           0  \n",
       "4         0        1           0  \n",
       "\n",
       "[5 rows x 23 columns]"
      ]
     },
     "execution_count": 515,
     "metadata": {},
     "output_type": "execute_result"
    }
   ],
   "source": [
    "df.head()"
   ]
  },
  {
   "cell_type": "code",
   "execution_count": 516,
   "id": "dd0c388e-9219-4e73-a659-065729c9f874",
   "metadata": {},
   "outputs": [],
   "source": [
    "df.drop(['department', 'salary_level'], inplace=True, axis='columns')"
   ]
  },
  {
   "cell_type": "code",
   "execution_count": 517,
   "id": "bf2b2244-9e39-434a-8275-d7871b5eb4c5",
   "metadata": {},
   "outputs": [
    {
     "data": {
      "text/plain": [
       "Index(['satisfaction_level', 'last_evaluation', 'number_of_projects',\n",
       "       'average_monthly_hours', 'years_at_company', 'work_accident', 'left',\n",
       "       'promotion_last_5years', 'cat_IT', 'cat_RandD', 'cat_accounting',\n",
       "       'cat_hr', 'cat_management', 'cat_marketing', 'cat_product_mng',\n",
       "       'cat_sales', 'cat_support', 'cat_technical', 'cat_high', 'cat_low',\n",
       "       'cat_medium'],\n",
       "      dtype='object')"
      ]
     },
     "execution_count": 517,
     "metadata": {},
     "output_type": "execute_result"
    }
   ],
   "source": [
    "df.columns"
   ]
  },
  {
   "cell_type": "markdown",
   "id": "194c060d-1c7d-49ba-81c8-a3ebb0473aa1",
   "metadata": {},
   "source": [
    "### Min-Max Scaling\n",
    "\n",
    "This code performs min-max scaling on the \"average_monthly_hours\" feature to normalize its values. Min-max scaling scales the values of a feature to a fixed range, preserving the relative relationships between the data points. This scaling can ensure that the feature does not dominate the model training process.\n",
    "\n",
    "\"average_manthly_hours\" was chosen for possible scaling because it has much larger values than any other feature of the data.\n",
    "\n",
    "However, the model performance of the model is not affect much by the scaling. You can comment out the scalling section of the code to see the diifference."
   ]
  },
  {
   "cell_type": "code",
   "execution_count": 518,
   "id": "5c5a5402-a840-42d4-8719-342d0e0df586",
   "metadata": {},
   "outputs": [
    {
     "data": {
      "text/plain": [
       "96"
      ]
     },
     "execution_count": 518,
     "metadata": {},
     "output_type": "execute_result"
    }
   ],
   "source": [
    "df['average_monthly_hours'].min()"
   ]
  },
  {
   "cell_type": "code",
   "execution_count": 519,
   "id": "94a21175-d6b7-47e8-b3c2-5232dd72296a",
   "metadata": {},
   "outputs": [
    {
     "data": {
      "text/plain": [
       "310"
      ]
     },
     "execution_count": 519,
     "metadata": {},
     "output_type": "execute_result"
    }
   ],
   "source": [
    "df['average_monthly_hours'].max()"
   ]
  },
  {
   "cell_type": "code",
   "execution_count": 520,
   "id": "63589d30-4803-46bf-be32-4cd328787edf",
   "metadata": {},
   "outputs": [],
   "source": [
    "from sklearn.preprocessing import MinMaxScaler\n",
    "\n",
    "scaler = MinMaxScaler()\n",
    "hours = df['average_monthly_hours'].values.reshape(-1, 1)\n",
    "scaled_hours = scaler.fit_transform(hours)\n",
    "\n",
    "df['average_monthly_hours_scaled'] = scaled_hours"
   ]
  },
  {
   "cell_type": "markdown",
   "id": "6ab80752-fb40-4366-a7a4-06f3db67b43d",
   "metadata": {},
   "source": [
    "### Splitting data into training and testing sets\n",
    "\n",
    "The code splits the data into training and testing sets using the train_test_split() function from scikit-learn. The training set is used to train the machine learning models, while the testing set is used to evaluate their performance. The data is split in an 80:20 ratio, where 80% of the data is used for training and 20% for testing."
   ]
  },
  {
   "cell_type": "code",
   "execution_count": 521,
   "id": "e4e8b676-cb60-4f82-a11a-f9ccaa6d9153",
   "metadata": {},
   "outputs": [],
   "source": [
    "X = df.drop('left', axis=1)\n",
    "y = df['left']"
   ]
  },
  {
   "cell_type": "code",
   "execution_count": 522,
   "id": "4761f097-c7b7-4be6-ae93-3daba0bf727f",
   "metadata": {},
   "outputs": [
    {
     "data": {
      "text/plain": [
       "0    1\n",
       "1    1\n",
       "2    1\n",
       "3    1\n",
       "4    1\n",
       "Name: left, dtype: int64"
      ]
     },
     "execution_count": 522,
     "metadata": {},
     "output_type": "execute_result"
    }
   ],
   "source": [
    "y.head()"
   ]
  },
  {
   "cell_type": "code",
   "execution_count": 523,
   "id": "b3a842be-c5c1-4ac9-b430-c9166a471590",
   "metadata": {},
   "outputs": [],
   "source": [
    "from sklearn.model_selection import train_test_split"
   ]
  },
  {
   "cell_type": "code",
   "execution_count": 524,
   "id": "c723b7d7-0994-4813-a0d2-e5614ffd9d2d",
   "metadata": {},
   "outputs": [],
   "source": [
    "X_train, X_test, y_train, y_test = train_test_split(X, y, train_size=0.8)"
   ]
  },
  {
   "cell_type": "code",
   "execution_count": 525,
   "id": "00ff36ff-2eeb-4139-a8b1-69841bf57eb4",
   "metadata": {},
   "outputs": [
    {
     "data": {
      "text/plain": [
       "(9592, 21)"
      ]
     },
     "execution_count": 525,
     "metadata": {},
     "output_type": "execute_result"
    }
   ],
   "source": [
    "X_train.shape"
   ]
  },
  {
   "cell_type": "code",
   "execution_count": 526,
   "id": "daa9cf5c-f622-4b7c-89b1-bf692fea2e66",
   "metadata": {},
   "outputs": [
    {
     "data": {
      "text/plain": [
       "(2399, 21)"
      ]
     },
     "execution_count": 526,
     "metadata": {},
     "output_type": "execute_result"
    }
   ],
   "source": [
    "X_test.shape"
   ]
  },
  {
   "cell_type": "markdown",
   "id": "07075322-d24a-4575-8bbf-73f61f50670d",
   "metadata": {},
   "source": [
    "## Model training\n",
    "\n",
    "The code trains two different models: logistic regression and random forest classifier. These models are trained using the training data and their performance is evaluated using the testing data."
   ]
  },
  {
   "cell_type": "markdown",
   "id": "0ace940b-6c2b-4b94-9380-53fdd41e6c98",
   "metadata": {},
   "source": [
    "### Logistic regression model\n",
    "\n",
    "This code trains a logistic regression model on the training data using the 'LogisticRegression' class from scikit-learn. Logistic regression is a binary classification algorithm that models the relationship between the input features and the probability of an employee leaving the company. The trained model is then used to make predictions on the testing data."
   ]
  },
  {
   "cell_type": "code",
   "execution_count": 527,
   "id": "acaebb32-5b4f-49a3-a0c8-2de30e8171dd",
   "metadata": {},
   "outputs": [],
   "source": [
    "from sklearn.linear_model import LogisticRegression\n",
    "from sklearn.metrics import accuracy_score, classification_report, confusion_matrix"
   ]
  },
  {
   "cell_type": "code",
   "execution_count": 528,
   "id": "22efae52-7ef4-4cb0-ad8e-302ec96a994f",
   "metadata": {},
   "outputs": [],
   "source": [
    "logReg = LogisticRegression(max_iter=2000)"
   ]
  },
  {
   "cell_type": "code",
   "execution_count": 529,
   "id": "1a8c71e1-e8fd-4778-8afb-954872e80824",
   "metadata": {},
   "outputs": [
    {
     "data": {
      "text/html": [
       "<style>#sk-container-id-19 {color: black;background-color: white;}#sk-container-id-19 pre{padding: 0;}#sk-container-id-19 div.sk-toggleable {background-color: white;}#sk-container-id-19 label.sk-toggleable__label {cursor: pointer;display: block;width: 100%;margin-bottom: 0;padding: 0.3em;box-sizing: border-box;text-align: center;}#sk-container-id-19 label.sk-toggleable__label-arrow:before {content: \"▸\";float: left;margin-right: 0.25em;color: #696969;}#sk-container-id-19 label.sk-toggleable__label-arrow:hover:before {color: black;}#sk-container-id-19 div.sk-estimator:hover label.sk-toggleable__label-arrow:before {color: black;}#sk-container-id-19 div.sk-toggleable__content {max-height: 0;max-width: 0;overflow: hidden;text-align: left;background-color: #f0f8ff;}#sk-container-id-19 div.sk-toggleable__content pre {margin: 0.2em;color: black;border-radius: 0.25em;background-color: #f0f8ff;}#sk-container-id-19 input.sk-toggleable__control:checked~div.sk-toggleable__content {max-height: 200px;max-width: 100%;overflow: auto;}#sk-container-id-19 input.sk-toggleable__control:checked~label.sk-toggleable__label-arrow:before {content: \"▾\";}#sk-container-id-19 div.sk-estimator input.sk-toggleable__control:checked~label.sk-toggleable__label {background-color: #d4ebff;}#sk-container-id-19 div.sk-label input.sk-toggleable__control:checked~label.sk-toggleable__label {background-color: #d4ebff;}#sk-container-id-19 input.sk-hidden--visually {border: 0;clip: rect(1px 1px 1px 1px);clip: rect(1px, 1px, 1px, 1px);height: 1px;margin: -1px;overflow: hidden;padding: 0;position: absolute;width: 1px;}#sk-container-id-19 div.sk-estimator {font-family: monospace;background-color: #f0f8ff;border: 1px dotted black;border-radius: 0.25em;box-sizing: border-box;margin-bottom: 0.5em;}#sk-container-id-19 div.sk-estimator:hover {background-color: #d4ebff;}#sk-container-id-19 div.sk-parallel-item::after {content: \"\";width: 100%;border-bottom: 1px solid gray;flex-grow: 1;}#sk-container-id-19 div.sk-label:hover label.sk-toggleable__label {background-color: #d4ebff;}#sk-container-id-19 div.sk-serial::before {content: \"\";position: absolute;border-left: 1px solid gray;box-sizing: border-box;top: 0;bottom: 0;left: 50%;z-index: 0;}#sk-container-id-19 div.sk-serial {display: flex;flex-direction: column;align-items: center;background-color: white;padding-right: 0.2em;padding-left: 0.2em;position: relative;}#sk-container-id-19 div.sk-item {position: relative;z-index: 1;}#sk-container-id-19 div.sk-parallel {display: flex;align-items: stretch;justify-content: center;background-color: white;position: relative;}#sk-container-id-19 div.sk-item::before, #sk-container-id-19 div.sk-parallel-item::before {content: \"\";position: absolute;border-left: 1px solid gray;box-sizing: border-box;top: 0;bottom: 0;left: 50%;z-index: -1;}#sk-container-id-19 div.sk-parallel-item {display: flex;flex-direction: column;z-index: 1;position: relative;background-color: white;}#sk-container-id-19 div.sk-parallel-item:first-child::after {align-self: flex-end;width: 50%;}#sk-container-id-19 div.sk-parallel-item:last-child::after {align-self: flex-start;width: 50%;}#sk-container-id-19 div.sk-parallel-item:only-child::after {width: 0;}#sk-container-id-19 div.sk-dashed-wrapped {border: 1px dashed gray;margin: 0 0.4em 0.5em 0.4em;box-sizing: border-box;padding-bottom: 0.4em;background-color: white;}#sk-container-id-19 div.sk-label label {font-family: monospace;font-weight: bold;display: inline-block;line-height: 1.2em;}#sk-container-id-19 div.sk-label-container {text-align: center;}#sk-container-id-19 div.sk-container {/* jupyter's `normalize.less` sets `[hidden] { display: none; }` but bootstrap.min.css set `[hidden] { display: none !important; }` so we also need the `!important` here to be able to override the default hidden behavior on the sphinx rendered scikit-learn.org. See: https://github.com/scikit-learn/scikit-learn/issues/21755 */display: inline-block !important;position: relative;}#sk-container-id-19 div.sk-text-repr-fallback {display: none;}</style><div id=\"sk-container-id-19\" class=\"sk-top-container\"><div class=\"sk-text-repr-fallback\"><pre>LogisticRegression(max_iter=2000)</pre><b>In a Jupyter environment, please rerun this cell to show the HTML representation or trust the notebook. <br />On GitHub, the HTML representation is unable to render, please try loading this page with nbviewer.org.</b></div><div class=\"sk-container\" hidden><div class=\"sk-item\"><div class=\"sk-estimator sk-toggleable\"><input class=\"sk-toggleable__control sk-hidden--visually\" id=\"sk-estimator-id-31\" type=\"checkbox\" checked><label for=\"sk-estimator-id-31\" class=\"sk-toggleable__label sk-toggleable__label-arrow\">LogisticRegression</label><div class=\"sk-toggleable__content\"><pre>LogisticRegression(max_iter=2000)</pre></div></div></div></div></div>"
      ],
      "text/plain": [
       "LogisticRegression(max_iter=2000)"
      ]
     },
     "execution_count": 529,
     "metadata": {},
     "output_type": "execute_result"
    }
   ],
   "source": [
    "logReg.fit(X_train, y_train)"
   ]
  },
  {
   "cell_type": "markdown",
   "id": "456431ae-b2a7-4e35-8b7a-8d716572b913",
   "metadata": {},
   "source": [
    "## Evaluation\n",
    "\n",
    "This code calculates the accuracy score, classification report, and confusion matrix for the logistic regression model's predictions on the testing data. The accuracy score represents the proportion of correct predictions, while the classification report provides precision, recall, F1-score, and support for each class (0 - not leaving, 1 - leaving). The confusion matrix visualizes the performance of the model by showing the number of true positives, true negatives, false positives, and false negatives."
   ]
  },
  {
   "cell_type": "code",
   "execution_count": 530,
   "id": "90567537-1d7c-43e4-bbee-152522e1bb10",
   "metadata": {},
   "outputs": [],
   "source": [
    "logReg_predictions = logReg.predict(X_test)"
   ]
  },
  {
   "cell_type": "code",
   "execution_count": 531,
   "id": "b57f0a24-6623-4209-be5c-774e41b27c36",
   "metadata": {},
   "outputs": [
    {
     "data": {
      "text/plain": [
       "0.8416006669445603"
      ]
     },
     "execution_count": 531,
     "metadata": {},
     "output_type": "execute_result"
    }
   ],
   "source": [
    "accuracy_score(y_test, logReg_predictions)"
   ]
  },
  {
   "cell_type": "code",
   "execution_count": 532,
   "id": "65e5dc5d-c5bd-4646-8ec0-7892eeec4a63",
   "metadata": {},
   "outputs": [
    {
     "name": "stdout",
     "output_type": "stream",
     "text": [
      "              precision    recall  f1-score   support\n",
      "\n",
      "           0       0.87      0.95      0.91      2037\n",
      "           1       0.45      0.22      0.30       362\n",
      "\n",
      "    accuracy                           0.84      2399\n",
      "   macro avg       0.66      0.59      0.60      2399\n",
      "weighted avg       0.81      0.84      0.82      2399\n",
      "\n"
     ]
    }
   ],
   "source": [
    "print(classification_report(y_test, logReg_predictions))"
   ]
  },
  {
   "cell_type": "code",
   "execution_count": 533,
   "id": "f684e8da-235f-40a6-a387-4f215ab50c32",
   "metadata": {},
   "outputs": [],
   "source": [
    "cm = confusion_matrix(y_test, logReg_predictions)"
   ]
  },
  {
   "cell_type": "code",
   "execution_count": 534,
   "id": "ade6b2ba-bb03-4c6b-8565-d986e5c7489a",
   "metadata": {},
   "outputs": [
    {
     "data": {
      "text/plain": [
       "array([[1939,   98],\n",
       "       [ 282,   80]], dtype=int64)"
      ]
     },
     "execution_count": 534,
     "metadata": {},
     "output_type": "execute_result"
    }
   ],
   "source": [
    "cm"
   ]
  },
  {
   "cell_type": "code",
   "execution_count": 535,
   "id": "835447cf-57a3-4ae2-80c7-3747c29a4835",
   "metadata": {},
   "outputs": [
    {
     "data": {
      "image/png": "[encoded data removed]",
      "text/plain": [
       "<Figure size 1000x600 with 2 Axes>"
      ]
     },
     "metadata": {},
     "output_type": "display_data"
    }
   ],
   "source": [
    "plt.figure(figsize=(10,6))\n",
    "sns.heatmap(cm, annot=True)\n",
    "plt.tight_layout()\n",
    "plt.show()"
   ]
  },
  {
   "cell_type": "markdown",
   "id": "5ac4aff3-3f09-42bc-89bd-12584c5a28d7",
   "metadata": {},
   "source": [
    "### Random forest model\n",
    "\n",
    "This code trains a random forest classifier on the training data using the RandomForestClassifier class from scikit-learn. Random forest is an ensemble learning method that constructs multiple decision trees and combines their predictions to make a final prediction. The trained random forest model is used to make predictions on the testing data."
   ]
  },
  {
   "cell_type": "code",
   "execution_count": 536,
   "id": "9e6021c7-36fa-4fe0-abd7-5e092389cd60",
   "metadata": {},
   "outputs": [],
   "source": [
    "from sklearn.ensemble import RandomForestClassifier"
   ]
  },
  {
   "cell_type": "code",
   "execution_count": 537,
   "id": "d65ed800-509f-445c-88c2-087a3ab680e3",
   "metadata": {},
   "outputs": [],
   "source": [
    "randForest = RandomForestClassifier(n_estimators=100)"
   ]
  },
  {
   "cell_type": "code",
   "execution_count": 538,
   "id": "87573db0-b74b-4caa-82df-d0f63570c29d",
   "metadata": {},
   "outputs": [
    {
     "data": {
      "text/html": [
       "<style>#sk-container-id-20 {color: black;background-color: white;}#sk-container-id-20 pre{padding: 0;}#sk-container-id-20 div.sk-toggleable {background-color: white;}#sk-container-id-20 label.sk-toggleable__label {cursor: pointer;display: block;width: 100%;margin-bottom: 0;padding: 0.3em;box-sizing: border-box;text-align: center;}#sk-container-id-20 label.sk-toggleable__label-arrow:before {content: \"▸\";float: left;margin-right: 0.25em;color: #696969;}#sk-container-id-20 label.sk-toggleable__label-arrow:hover:before {color: black;}#sk-container-id-20 div.sk-estimator:hover label.sk-toggleable__label-arrow:before {color: black;}#sk-container-id-20 div.sk-toggleable__content {max-height: 0;max-width: 0;overflow: hidden;text-align: left;background-color: #f0f8ff;}#sk-container-id-20 div.sk-toggleable__content pre {margin: 0.2em;color: black;border-radius: 0.25em;background-color: #f0f8ff;}#sk-container-id-20 input.sk-toggleable__control:checked~div.sk-toggleable__content {max-height: 200px;max-width: 100%;overflow: auto;}#sk-container-id-20 input.sk-toggleable__control:checked~label.sk-toggleable__label-arrow:before {content: \"▾\";}#sk-container-id-20 div.sk-estimator input.sk-toggleable__control:checked~label.sk-toggleable__label {background-color: #d4ebff;}#sk-container-id-20 div.sk-label input.sk-toggleable__control:checked~label.sk-toggleable__label {background-color: #d4ebff;}#sk-container-id-20 input.sk-hidden--visually {border: 0;clip: rect(1px 1px 1px 1px);clip: rect(1px, 1px, 1px, 1px);height: 1px;margin: -1px;overflow: hidden;padding: 0;position: absolute;width: 1px;}#sk-container-id-20 div.sk-estimator {font-family: monospace;background-color: #f0f8ff;border: 1px dotted black;border-radius: 0.25em;box-sizing: border-box;margin-bottom: 0.5em;}#sk-container-id-20 div.sk-estimator:hover {background-color: #d4ebff;}#sk-container-id-20 div.sk-parallel-item::after {content: \"\";width: 100%;border-bottom: 1px solid gray;flex-grow: 1;}#sk-container-id-20 div.sk-label:hover label.sk-toggleable__label {background-color: #d4ebff;}#sk-container-id-20 div.sk-serial::before {content: \"\";position: absolute;border-left: 1px solid gray;box-sizing: border-box;top: 0;bottom: 0;left: 50%;z-index: 0;}#sk-container-id-20 div.sk-serial {display: flex;flex-direction: column;align-items: center;background-color: white;padding-right: 0.2em;padding-left: 0.2em;position: relative;}#sk-container-id-20 div.sk-item {position: relative;z-index: 1;}#sk-container-id-20 div.sk-parallel {display: flex;align-items: stretch;justify-content: center;background-color: white;position: relative;}#sk-container-id-20 div.sk-item::before, #sk-container-id-20 div.sk-parallel-item::before {content: \"\";position: absolute;border-left: 1px solid gray;box-sizing: border-box;top: 0;bottom: 0;left: 50%;z-index: -1;}#sk-container-id-20 div.sk-parallel-item {display: flex;flex-direction: column;z-index: 1;position: relative;background-color: white;}#sk-container-id-20 div.sk-parallel-item:first-child::after {align-self: flex-end;width: 50%;}#sk-container-id-20 div.sk-parallel-item:last-child::after {align-self: flex-start;width: 50%;}#sk-container-id-20 div.sk-parallel-item:only-child::after {width: 0;}#sk-container-id-20 div.sk-dashed-wrapped {border: 1px dashed gray;margin: 0 0.4em 0.5em 0.4em;box-sizing: border-box;padding-bottom: 0.4em;background-color: white;}#sk-container-id-20 div.sk-label label {font-family: monospace;font-weight: bold;display: inline-block;line-height: 1.2em;}#sk-container-id-20 div.sk-label-container {text-align: center;}#sk-container-id-20 div.sk-container {/* jupyter's `normalize.less` sets `[hidden] { display: none; }` but bootstrap.min.css set `[hidden] { display: none !important; }` so we also need the `!important` here to be able to override the default hidden behavior on the sphinx rendered scikit-learn.org. See: https://github.com/scikit-learn/scikit-learn/issues/21755 */display: inline-block !important;position: relative;}#sk-container-id-20 div.sk-text-repr-fallback {display: none;}</style><div id=\"sk-container-id-20\" class=\"sk-top-container\"><div class=\"sk-text-repr-fallback\"><pre>RandomForestClassifier()</pre><b>In a Jupyter environment, please rerun this cell to show the HTML representation or trust the notebook. <br />On GitHub, the HTML representation is unable to render, please try loading this page with nbviewer.org.</b></div><div class=\"sk-container\" hidden><div class=\"sk-item\"><div class=\"sk-estimator sk-toggleable\"><input class=\"sk-toggleable__control sk-hidden--visually\" id=\"sk-estimator-id-32\" type=\"checkbox\" checked><label for=\"sk-estimator-id-32\" class=\"sk-toggleable__label sk-toggleable__label-arrow\">RandomForestClassifier</label><div class=\"sk-toggleable__content\"><pre>RandomForestClassifier()</pre></div></div></div></div></div>"
      ],
      "text/plain": [
       "RandomForestClassifier()"
      ]
     },
     "execution_count": 538,
     "metadata": {},
     "output_type": "execute_result"
    }
   ],
   "source": [
    "randForest.fit(X_train, y_train)"
   ]
  },
  {
   "cell_type": "markdown",
   "id": "7db30026-ec37-48b0-9ea1-3a1f67f6d42c",
   "metadata": {},
   "source": [
    "## Evaluation\n",
    "\n",
    "This section calculates the accuracy score, classification report, and confusion matrix for the random forest model's predictions on the testing data. The evaluation metrics provide insights into the performance of the random forest model in predicting employee turnover."
   ]
  },
  {
   "cell_type": "code",
   "execution_count": 539,
   "id": "e26ac666-75e4-4943-9ff7-278007ef6acf",
   "metadata": {},
   "outputs": [],
   "source": [
    "randForest_predictions = randForest.predict(X_test)"
   ]
  },
  {
   "cell_type": "code",
   "execution_count": 540,
   "id": "5d6d819b-6a2b-4a62-b250-3cc5aea3aa72",
   "metadata": {},
   "outputs": [
    {
     "data": {
      "text/plain": [
       "0.9866611087953314"
      ]
     },
     "execution_count": 540,
     "metadata": {},
     "output_type": "execute_result"
    }
   ],
   "source": [
    "accuracy_score(y_test, randForest_predictions)"
   ]
  },
  {
   "cell_type": "code",
   "execution_count": 541,
   "id": "61cb11e2-62a2-461d-92e3-e5a4ea79c5bf",
   "metadata": {},
   "outputs": [
    {
     "name": "stdout",
     "output_type": "stream",
     "text": [
      "              precision    recall  f1-score   support\n",
      "\n",
      "           0       0.99      1.00      0.99      2037\n",
      "           1       0.99      0.92      0.95       362\n",
      "\n",
      "    accuracy                           0.99      2399\n",
      "   macro avg       0.99      0.96      0.97      2399\n",
      "weighted avg       0.99      0.99      0.99      2399\n",
      "\n"
     ]
    }
   ],
   "source": [
    "print(classification_report(y_test, randForest_predictions))"
   ]
  },
  {
   "cell_type": "code",
   "execution_count": 542,
   "id": "989d8ef1-8574-490a-803a-074f100e9465",
   "metadata": {},
   "outputs": [],
   "source": [
    "cm = confusion_matrix(y_test, randForest_predictions)"
   ]
  },
  {
   "cell_type": "code",
   "execution_count": 543,
   "id": "897641d9-59d7-474d-831e-bec69e61973e",
   "metadata": {},
   "outputs": [
    {
     "data": {
      "text/plain": [
       "array([[2034,    3],\n",
       "       [  29,  333]], dtype=int64)"
      ]
     },
     "execution_count": 543,
     "metadata": {},
     "output_type": "execute_result"
    }
   ],
   "source": [
    "cm"
   ]
  },
  {
   "cell_type": "code",
   "execution_count": 544,
   "id": "e7ceb050-e39a-449b-ae81-9f18cda26c3c",
   "metadata": {},
   "outputs": [
    {
     "data": {
      "image/png": "[encoded data removed]",
      "text/plain": [
       "<Figure size 1000x600 with 2 Axes>"
      ]
     },
     "metadata": {},
     "output_type": "display_data"
    }
   ],
   "source": [
    "plt.figure(figsize=(10,6))\n",
    "sns.heatmap(cm, annot=True)\n",
    "plt.tight_layout()\n",
    "plt.show()"
   ]
  },
  {
   "cell_type": "markdown",
   "id": "5203e3d7-93cf-4123-8a33-9e4599aa7e42",
   "metadata": {},
   "source": [
    "## Hyperparameter tuning\n",
    "\n",
    "This section performs hyperparameter tuning for the random forest model using grid search and cross-validation. Hyperparameters are parameters that are not learned from the data but set before training the model. Grid search exhaustively searches the specified parameter grid and selects the best combination of hyperparameters based on cross-validation performance. The best hyperparameters and their corresponding performance scores are displayed."
   ]
  },
  {
   "cell_type": "code",
   "execution_count": 545,
   "id": "b953554d-84ab-4fe7-9f03-653f6cdc8b38",
   "metadata": {},
   "outputs": [],
   "source": [
    "from sklearn.model_selection import StratifiedKFold, GridSearchCV"
   ]
  },
  {
   "cell_type": "code",
   "execution_count": 546,
   "id": "7b0d6441-3c7d-4c2c-ad84-a148d51ef3cf",
   "metadata": {},
   "outputs": [],
   "source": [
    "parameter = {\n",
    "    'criterion': ['gini', 'entropy'],\n",
    "    'n_estimators': [10, 100, 150, 200],\n",
    "    'min_samples_leaf': [1, 2, 4, 6],\n",
    "    'max_features': ['auto', 'sqrt', 'log2'] \n",
    "}"
   ]
  },
  {
   "cell_type": "code",
   "execution_count": 547,
   "id": "350f049e-ee42-4e19-9436-fe4cf2053231",
   "metadata": {},
   "outputs": [],
   "source": [
    "kfold = StratifiedKFold(n_splits=5)"
   ]
  },
  {
   "cell_type": "code",
   "execution_count": 548,
   "id": "9152cd49-adf0-4936-80fe-2bc056ebc073",
   "metadata": {},
   "outputs": [],
   "source": [
    "clf = GridSearchCV(randForest, parameter, scoring='accuracy', n_jobs=2, cv=kfold)"
   ]
  },
  {
   "cell_type": "code",
   "execution_count": 549,
   "id": "61ec573b-3b98-40a5-8c9a-6c562422b714",
   "metadata": {},
   "outputs": [
    {
     "data": {
      "text/html": [
       "<style>#sk-container-id-21 {color: black;background-color: white;}#sk-container-id-21 pre{padding: 0;}#sk-container-id-21 div.sk-toggleable {background-color: white;}#sk-container-id-21 label.sk-toggleable__label {cursor: pointer;display: block;width: 100%;margin-bottom: 0;padding: 0.3em;box-sizing: border-box;text-align: center;}#sk-container-id-21 label.sk-toggleable__label-arrow:before {content: \"▸\";float: left;margin-right: 0.25em;color: #696969;}#sk-container-id-21 label.sk-toggleable__label-arrow:hover:before {color: black;}#sk-container-id-21 div.sk-estimator:hover label.sk-toggleable__label-arrow:before {color: black;}#sk-container-id-21 div.sk-toggleable__content {max-height: 0;max-width: 0;overflow: hidden;text-align: left;background-color: #f0f8ff;}#sk-container-id-21 div.sk-toggleable__content pre {margin: 0.2em;color: black;border-radius: 0.25em;background-color: #f0f8ff;}#sk-container-id-21 input.sk-toggleable__control:checked~div.sk-toggleable__content {max-height: 200px;max-width: 100%;overflow: auto;}#sk-container-id-21 input.sk-toggleable__control:checked~label.sk-toggleable__label-arrow:before {content: \"▾\";}#sk-container-id-21 div.sk-estimator input.sk-toggleable__control:checked~label.sk-toggleable__label {background-color: #d4ebff;}#sk-container-id-21 div.sk-label input.sk-toggleable__control:checked~label.sk-toggleable__label {background-color: #d4ebff;}#sk-container-id-21 input.sk-hidden--visually {border: 0;clip: rect(1px 1px 1px 1px);clip: rect(1px, 1px, 1px, 1px);height: 1px;margin: -1px;overflow: hidden;padding: 0;position: absolute;width: 1px;}#sk-container-id-21 div.sk-estimator {font-family: monospace;background-color: #f0f8ff;border: 1px dotted black;border-radius: 0.25em;box-sizing: border-box;margin-bottom: 0.5em;}#sk-container-id-21 div.sk-estimator:hover {background-color: #d4ebff;}#sk-container-id-21 div.sk-parallel-item::after {content: \"\";width: 100%;border-bottom: 1px solid gray;flex-grow: 1;}#sk-container-id-21 div.sk-label:hover label.sk-toggleable__label {background-color: #d4ebff;}#sk-container-id-21 div.sk-serial::before {content: \"\";position: absolute;border-left: 1px solid gray;box-sizing: border-box;top: 0;bottom: 0;left: 50%;z-index: 0;}#sk-container-id-21 div.sk-serial {display: flex;flex-direction: column;align-items: center;background-color: white;padding-right: 0.2em;padding-left: 0.2em;position: relative;}#sk-container-id-21 div.sk-item {position: relative;z-index: 1;}#sk-container-id-21 div.sk-parallel {display: flex;align-items: stretch;justify-content: center;background-color: white;position: relative;}#sk-container-id-21 div.sk-item::before, #sk-container-id-21 div.sk-parallel-item::before {content: \"\";position: absolute;border-left: 1px solid gray;box-sizing: border-box;top: 0;bottom: 0;left: 50%;z-index: -1;}#sk-container-id-21 div.sk-parallel-item {display: flex;flex-direction: column;z-index: 1;position: relative;background-color: white;}#sk-container-id-21 div.sk-parallel-item:first-child::after {align-self: flex-end;width: 50%;}#sk-container-id-21 div.sk-parallel-item:last-child::after {align-self: flex-start;width: 50%;}#sk-container-id-21 div.sk-parallel-item:only-child::after {width: 0;}#sk-container-id-21 div.sk-dashed-wrapped {border: 1px dashed gray;margin: 0 0.4em 0.5em 0.4em;box-sizing: border-box;padding-bottom: 0.4em;background-color: white;}#sk-container-id-21 div.sk-label label {font-family: monospace;font-weight: bold;display: inline-block;line-height: 1.2em;}#sk-container-id-21 div.sk-label-container {text-align: center;}#sk-container-id-21 div.sk-container {/* jupyter's `normalize.less` sets `[hidden] { display: none; }` but bootstrap.min.css set `[hidden] { display: none !important; }` so we also need the `!important` here to be able to override the default hidden behavior on the sphinx rendered scikit-learn.org. See: https://github.com/scikit-learn/scikit-learn/issues/21755 */display: inline-block !important;position: relative;}#sk-container-id-21 div.sk-text-repr-fallback {display: none;}</style><div id=\"sk-container-id-21\" class=\"sk-top-container\"><div class=\"sk-text-repr-fallback\"><pre>GridSearchCV(cv=StratifiedKFold(n_splits=5, random_state=None, shuffle=False),\n",
       "             estimator=RandomForestClassifier(), n_jobs=2,\n",
       "             param_grid={&#x27;criterion&#x27;: [&#x27;gini&#x27;, &#x27;entropy&#x27;],\n",
       "                         &#x27;max_features&#x27;: [&#x27;auto&#x27;, &#x27;sqrt&#x27;, &#x27;log2&#x27;],\n",
       "                         &#x27;min_samples_leaf&#x27;: [1, 2, 4, 6],\n",
       "                         &#x27;n_estimators&#x27;: [10, 100, 150, 200]},\n",
       "             scoring=&#x27;accuracy&#x27;)</pre><b>In a Jupyter environment, please rerun this cell to show the HTML representation or trust the notebook. <br />On GitHub, the HTML representation is unable to render, please try loading this page with nbviewer.org.</b></div><div class=\"sk-container\" hidden><div class=\"sk-item sk-dashed-wrapped\"><div class=\"sk-label-container\"><div class=\"sk-label sk-toggleable\"><input class=\"sk-toggleable__control sk-hidden--visually\" id=\"sk-estimator-id-33\" type=\"checkbox\" ><label for=\"sk-estimator-id-33\" class=\"sk-toggleable__label sk-toggleable__label-arrow\">GridSearchCV</label><div class=\"sk-toggleable__content\"><pre>GridSearchCV(cv=StratifiedKFold(n_splits=5, random_state=None, shuffle=False),\n",
       "             estimator=RandomForestClassifier(), n_jobs=2,\n",
       "             param_grid={&#x27;criterion&#x27;: [&#x27;gini&#x27;, &#x27;entropy&#x27;],\n",
       "                         &#x27;max_features&#x27;: [&#x27;auto&#x27;, &#x27;sqrt&#x27;, &#x27;log2&#x27;],\n",
       "                         &#x27;min_samples_leaf&#x27;: [1, 2, 4, 6],\n",
       "                         &#x27;n_estimators&#x27;: [10, 100, 150, 200]},\n",
       "             scoring=&#x27;accuracy&#x27;)</pre></div></div></div><div class=\"sk-parallel\"><div class=\"sk-parallel-item\"><div class=\"sk-item\"><div class=\"sk-label-container\"><div class=\"sk-label sk-toggleable\"><input class=\"sk-toggleable__control sk-hidden--visually\" id=\"sk-estimator-id-34\" type=\"checkbox\" ><label for=\"sk-estimator-id-34\" class=\"sk-toggleable__label sk-toggleable__label-arrow\">estimator: RandomForestClassifier</label><div class=\"sk-toggleable__content\"><pre>RandomForestClassifier()</pre></div></div></div><div class=\"sk-serial\"><div class=\"sk-item\"><div class=\"sk-estimator sk-toggleable\"><input class=\"sk-toggleable__control sk-hidden--visually\" id=\"sk-estimator-id-35\" type=\"checkbox\" ><label for=\"sk-estimator-id-35\" class=\"sk-toggleable__label sk-toggleable__label-arrow\">RandomForestClassifier</label><div class=\"sk-toggleable__content\"><pre>RandomForestClassifier()</pre></div></div></div></div></div></div></div></div></div></div>"
      ],
      "text/plain": [
       "GridSearchCV(cv=StratifiedKFold(n_splits=5, random_state=None, shuffle=False),\n",
       "             estimator=RandomForestClassifier(), n_jobs=2,\n",
       "             param_grid={'criterion': ['gini', 'entropy'],\n",
       "                         'max_features': ['auto', 'sqrt', 'log2'],\n",
       "                         'min_samples_leaf': [1, 2, 4, 6],\n",
       "                         'n_estimators': [10, 100, 150, 200]},\n",
       "             scoring='accuracy')"
      ]
     },
     "execution_count": 549,
     "metadata": {},
     "output_type": "execute_result"
    }
   ],
   "source": [
    "clf.fit(X_train, y_train)"
   ]
  },
  {
   "cell_type": "code",
   "execution_count": 550,
   "id": "a5793558-313b-4aa7-ad78-2acb83ed63eb",
   "metadata": {},
   "outputs": [
    {
     "data": {
      "text/plain": [
       "{'cv': StratifiedKFold(n_splits=5, random_state=None, shuffle=False),\n",
       " 'error_score': nan,\n",
       " 'estimator__bootstrap': True,\n",
       " 'estimator__ccp_alpha': 0.0,\n",
       " 'estimator__class_weight': None,\n",
       " 'estimator__criterion': 'gini',\n",
       " 'estimator__max_depth': None,\n",
       " 'estimator__max_features': 'sqrt',\n",
       " 'estimator__max_leaf_nodes': None,\n",
       " 'estimator__max_samples': None,\n",
       " 'estimator__min_impurity_decrease': 0.0,\n",
       " 'estimator__min_samples_leaf': 1,\n",
       " 'estimator__min_samples_split': 2,\n",
       " 'estimator__min_weight_fraction_leaf': 0.0,\n",
       " 'estimator__n_estimators': 100,\n",
       " 'estimator__n_jobs': None,\n",
       " 'estimator__oob_score': False,\n",
       " 'estimator__random_state': None,\n",
       " 'estimator__verbose': 0,\n",
       " 'estimator__warm_start': False,\n",
       " 'estimator': RandomForestClassifier(),\n",
       " 'n_jobs': 2,\n",
       " 'param_grid': {'criterion': ['gini', 'entropy'],\n",
       "  'n_estimators': [10, 100, 150, 200],\n",
       "  'min_samples_leaf': [1, 2, 4, 6],\n",
       "  'max_features': ['auto', 'sqrt', 'log2']},\n",
       " 'pre_dispatch': '2*n_jobs',\n",
       " 'refit': True,\n",
       " 'return_train_score': False,\n",
       " 'scoring': 'accuracy',\n",
       " 'verbose': 0}"
      ]
     },
     "execution_count": 550,
     "metadata": {},
     "output_type": "execute_result"
    }
   ],
   "source": [
    "clf.get_params()"
   ]
  },
  {
   "cell_type": "code",
   "execution_count": 551,
   "id": "c3784ec4-d625-4572-a354-74aadb3888f6",
   "metadata": {},
   "outputs": [
    {
     "data": {
      "text/plain": [
       "{'criterion': 'gini',\n",
       " 'max_features': 'log2',\n",
       " 'min_samples_leaf': 1,\n",
       " 'n_estimators': 150}"
      ]
     },
     "execution_count": 551,
     "metadata": {},
     "output_type": "execute_result"
    }
   ],
   "source": [
    "clf.best_params_"
   ]
  },
  {
   "cell_type": "code",
   "execution_count": 552,
   "id": "efe0e47a-7e46-4521-b849-5c23dcff21a8",
   "metadata": {},
   "outputs": [
    {
     "data": {
      "text/plain": [
       "0.9829028740094798"
      ]
     },
     "execution_count": 552,
     "metadata": {},
     "output_type": "execute_result"
    }
   ],
   "source": [
    "clf.best_score_"
   ]
  },
  {
   "cell_type": "code",
   "execution_count": 553,
   "id": "192a0cf3-9d20-4a8f-99d5-6ede3d0fd467",
   "metadata": {},
   "outputs": [
    {
     "data": {
      "text/plain": [
       "0.9870779491454773"
      ]
     },
     "execution_count": 553,
     "metadata": {},
     "output_type": "execute_result"
    }
   ],
   "source": [
    "clf.score(X_test, y_test)"
   ]
  },
  {
   "cell_type": "markdown",
   "id": "6ccb20db-1584-4715-9fe6-97b2c9795c32",
   "metadata": {},
   "source": [
    "### Model saving\n",
    "\n",
    "The trained random forest model is saved using the pickle library. The model is serialized and saved in a file named \"model.pkl\". Saving the model allows us to reuse it later without retraining, making it convenient for future predictions."
   ]
  },
  {
   "cell_type": "code",
   "execution_count": 554,
   "id": "c4e2a73e-1f13-40b7-8fee-144e0ed0a003",
   "metadata": {},
   "outputs": [],
   "source": [
    "import pickle"
   ]
  },
  {
   "cell_type": "code",
   "execution_count": 555,
   "id": "127ed867-7840-4011-a564-f1caff9d7a1c",
   "metadata": {},
   "outputs": [],
   "source": [
    "with open('model.pkl', 'wb') as model_file:\n",
    "    pickle.dump(clf, model_file)"
   ]
  },
  {
   "cell_type": "markdown",
   "id": "60f977ff-02de-49f2-a2f6-b38d770460a4",
   "metadata": {},
   "source": [
    "## Conclusion\n",
    "\n",
    "This project provides a comprehensive analysis of employee turnover using data analysis techniques and machine learning models. It helps gain insights into various factors influencing employee turnover and builds a predictive model for identifying employees at risk of leaving the company. The code covers data loading, exploratory data analysis, data preprocessing, model training, evaluation, hyperparameter tuning, and model saving. By following the code and its explanations, users can understand the process and apply it to their own employee turnover prediction tasks and modify the code to fit their specific dataset."
   ]
  },
  {
   "cell_type": "code",
   "execution_count": null,
   "id": "abaf5339-a3e7-4759-a52d-00fa37692d34",
   "metadata": {},
   "outputs": [],
   "source": []
  }
 ],
 "metadata": {
  "kernelspec": {
   "display_name": "Python 3 (ipykernel)",
   "language": "python",
   "name": "python3"
  },
  "language_info": {
   "codemirror_mode": {
    "name": "ipython",
    "version": 3
   },
   "file_extension": ".py",
   "mimetype": "text/x-python",
   "name": "python",
   "nbconvert_exporter": "python",
   "pygments_lexer": "ipython3",
   "version": "3.10.9"
  }
 },
 "nbformat": 4,
 "nbformat_minor": 5
}
